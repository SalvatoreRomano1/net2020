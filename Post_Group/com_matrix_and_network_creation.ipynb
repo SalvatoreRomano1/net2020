{
 "metadata": {
  "language_info": {
   "codemirror_mode": {
    "name": "ipython",
    "version": 3
   },
   "file_extension": ".py",
   "mimetype": "text/x-python",
   "name": "python",
   "nbconvert_exporter": "python",
   "pygments_lexer": "ipython3",
   "version": "3.9.0-final"
  },
  "orig_nbformat": 2,
  "kernelspec": {
   "name": "python3",
   "display_name": "Python 3.9.0 64-bit",
   "metadata": {
    "interpreter": {
     "hash": "aee8b7b246df8f9039afb4144a1f6fd8d2ca17a180786b69acc140d282b71a49"
    }
   }
  }
 },
 "nbformat": 4,
 "nbformat_minor": 2,
 "cells": [
  {
   "source": [
    "# Import the data"
   ],
   "cell_type": "markdown",
   "metadata": {}
  },
  {
   "cell_type": "code",
   "execution_count": 2,
   "metadata": {},
   "outputs": [
    {
     "output_type": "execute_result",
     "data": {
      "text/plain": [
       "       Origin_file_order     Site                           p_id  \\\n",
       "0                  30126       FB  96844400700_10157493758850701   \n",
       "1                  30226       FB  96844400700_10157493758850701   \n",
       "2                  60063       FB  96844400700_10157493758850701   \n",
       "3                  60852       FB  96844400700_10157493758850701   \n",
       "4                  61557       FB  96844400700_10157493758850701   \n",
       "...                  ...      ...                            ...   \n",
       "78170              70705  Twitter          1.11852926516164E+018   \n",
       "78171              43288  Twitter          1.11846561220288E+018   \n",
       "78172              70478  Twitter          1.11825025930045E+018   \n",
       "78173              69430  Twitter          1.11824474991438E+018   \n",
       "78174              45602  Twitter          1.11780731706662E+018   \n",
       "\n",
       "                dateCreated      p_politician p_gender p_GRUPPO_PE  \\\n",
       "0      2019-04-23T10:33:37Z  MARCELLO GEMMATO        M         PPE   \n",
       "1      2019-04-23T10:33:37Z  MARCELLO GEMMATO        M         PPE   \n",
       "2      2019-04-23T10:33:37Z  MARCELLO GEMMATO        M         PPE   \n",
       "3      2019-04-23T10:33:37Z  MARCELLO GEMMATO        M         PPE   \n",
       "4      2019-04-23T10:33:37Z  MARCELLO GEMMATO        M         PPE   \n",
       "...                     ...               ...      ...         ...   \n",
       "78170  2019-04-17T14:58:52Z    MATTEO SALVINI        M        EFDD   \n",
       "78171  2019-04-17T10:45:56Z     CÉCILE KYENGE        F         PSE   \n",
       "78172  2019-04-16T20:30:12Z    MATTEO SALVINI        M        EFDD   \n",
       "78173  2019-04-16T20:08:19Z    MATTEO SALVINI        M        EFDD   \n",
       "78174  2019-04-15T15:10:06Z    MATTEO SALVINI        M        EFDD   \n",
       "\n",
       "             p_LISTA p_PARTITO    p_governo  ... p_Comma p_Colon p_SemiC  \\\n",
       "0                FDI       FDI  opposizione  ...    0.00    0.00     0.0   \n",
       "1                FDI       FDI  opposizione  ...    0.00    0.00     0.0   \n",
       "2                FDI       FDI  opposizione  ...   16.67    0.00     0.0   \n",
       "3                FDI       FDI  opposizione  ...   22.22    0.00     0.0   \n",
       "4                FDI       FDI  opposizione  ...   22.22    0.00     0.0   \n",
       "...              ...       ...          ...  ...     ...     ...     ...   \n",
       "78170           LEGA      Lega      governo  ...    6.82    2.27     0.0   \n",
       "78171  Siamo Europei        PD  opposizione  ...    6.82    2.27     0.0   \n",
       "78172           LEGA      Lega      governo  ...    3.12    6.25     0.0   \n",
       "78173           LEGA      Lega      governo  ...    5.41    2.70     0.0   \n",
       "78174           LEGA      Lega      governo  ...    3.92    0.00     0.0   \n",
       "\n",
       "       p_Qmark  p_Exclam  p_Dash  p_Quote  p_Apostro  p_Parenth p_OtherP  \n",
       "0          0.0       0.0     0.0      0.0       0.00        0.0     0.00  \n",
       "1          0.0       0.0     0.0      0.0       0.00        0.0     0.00  \n",
       "2          0.0       0.0     0.0      0.0       0.00        0.0     0.00  \n",
       "3          0.0       0.0     0.0      0.0      11.11        0.0     0.00  \n",
       "4          0.0       0.0     0.0      0.0      11.11        0.0     0.00  \n",
       "...        ...       ...     ...      ...        ...        ...      ...  \n",
       "78170      0.0       0.0     0.0      0.0       6.82        0.0     6.82  \n",
       "78171      0.0       0.0     0.0      0.0       6.82        0.0     6.82  \n",
       "78172      0.0       0.0     0.0      0.0       0.00        0.0     9.38  \n",
       "78173      0.0       0.0     0.0      0.0       0.00        0.0    13.51  \n",
       "78174      0.0       0.0     0.0      0.0       0.00        0.0     0.00  \n",
       "\n",
       "[78175 rows x 243 columns]"
      ],
      "text/html": "<div>\n<style scoped>\n    .dataframe tbody tr th:only-of-type {\n        vertical-align: middle;\n    }\n\n    .dataframe tbody tr th {\n        vertical-align: top;\n    }\n\n    .dataframe thead th {\n        text-align: right;\n    }\n</style>\n<table border=\"1\" class=\"dataframe\">\n  <thead>\n    <tr style=\"text-align: right;\">\n      <th></th>\n      <th>Origin_file_order</th>\n      <th>Site</th>\n      <th>p_id</th>\n      <th>dateCreated</th>\n      <th>p_politician</th>\n      <th>p_gender</th>\n      <th>p_GRUPPO_PE</th>\n      <th>p_LISTA</th>\n      <th>p_PARTITO</th>\n      <th>p_governo</th>\n      <th>...</th>\n      <th>p_Comma</th>\n      <th>p_Colon</th>\n      <th>p_SemiC</th>\n      <th>p_Qmark</th>\n      <th>p_Exclam</th>\n      <th>p_Dash</th>\n      <th>p_Quote</th>\n      <th>p_Apostro</th>\n      <th>p_Parenth</th>\n      <th>p_OtherP</th>\n    </tr>\n  </thead>\n  <tbody>\n    <tr>\n      <th>0</th>\n      <td>30126</td>\n      <td>FB</td>\n      <td>96844400700_10157493758850701</td>\n      <td>2019-04-23T10:33:37Z</td>\n      <td>MARCELLO GEMMATO</td>\n      <td>M</td>\n      <td>PPE</td>\n      <td>FDI</td>\n      <td>FDI</td>\n      <td>opposizione</td>\n      <td>...</td>\n      <td>0.00</td>\n      <td>0.00</td>\n      <td>0.0</td>\n      <td>0.0</td>\n      <td>0.0</td>\n      <td>0.0</td>\n      <td>0.0</td>\n      <td>0.00</td>\n      <td>0.0</td>\n      <td>0.00</td>\n    </tr>\n    <tr>\n      <th>1</th>\n      <td>30226</td>\n      <td>FB</td>\n      <td>96844400700_10157493758850701</td>\n      <td>2019-04-23T10:33:37Z</td>\n      <td>MARCELLO GEMMATO</td>\n      <td>M</td>\n      <td>PPE</td>\n      <td>FDI</td>\n      <td>FDI</td>\n      <td>opposizione</td>\n      <td>...</td>\n      <td>0.00</td>\n      <td>0.00</td>\n      <td>0.0</td>\n      <td>0.0</td>\n      <td>0.0</td>\n      <td>0.0</td>\n      <td>0.0</td>\n      <td>0.00</td>\n      <td>0.0</td>\n      <td>0.00</td>\n    </tr>\n    <tr>\n      <th>2</th>\n      <td>60063</td>\n      <td>FB</td>\n      <td>96844400700_10157493758850701</td>\n      <td>2019-04-23T10:33:37Z</td>\n      <td>MARCELLO GEMMATO</td>\n      <td>M</td>\n      <td>PPE</td>\n      <td>FDI</td>\n      <td>FDI</td>\n      <td>opposizione</td>\n      <td>...</td>\n      <td>16.67</td>\n      <td>0.00</td>\n      <td>0.0</td>\n      <td>0.0</td>\n      <td>0.0</td>\n      <td>0.0</td>\n      <td>0.0</td>\n      <td>0.00</td>\n      <td>0.0</td>\n      <td>0.00</td>\n    </tr>\n    <tr>\n      <th>3</th>\n      <td>60852</td>\n      <td>FB</td>\n      <td>96844400700_10157493758850701</td>\n      <td>2019-04-23T10:33:37Z</td>\n      <td>MARCELLO GEMMATO</td>\n      <td>M</td>\n      <td>PPE</td>\n      <td>FDI</td>\n      <td>FDI</td>\n      <td>opposizione</td>\n      <td>...</td>\n      <td>22.22</td>\n      <td>0.00</td>\n      <td>0.0</td>\n      <td>0.0</td>\n      <td>0.0</td>\n      <td>0.0</td>\n      <td>0.0</td>\n      <td>11.11</td>\n      <td>0.0</td>\n      <td>0.00</td>\n    </tr>\n    <tr>\n      <th>4</th>\n      <td>61557</td>\n      <td>FB</td>\n      <td>96844400700_10157493758850701</td>\n      <td>2019-04-23T10:33:37Z</td>\n      <td>MARCELLO GEMMATO</td>\n      <td>M</td>\n      <td>PPE</td>\n      <td>FDI</td>\n      <td>FDI</td>\n      <td>opposizione</td>\n      <td>...</td>\n      <td>22.22</td>\n      <td>0.00</td>\n      <td>0.0</td>\n      <td>0.0</td>\n      <td>0.0</td>\n      <td>0.0</td>\n      <td>0.0</td>\n      <td>11.11</td>\n      <td>0.0</td>\n      <td>0.00</td>\n    </tr>\n    <tr>\n      <th>...</th>\n      <td>...</td>\n      <td>...</td>\n      <td>...</td>\n      <td>...</td>\n      <td>...</td>\n      <td>...</td>\n      <td>...</td>\n      <td>...</td>\n      <td>...</td>\n      <td>...</td>\n      <td>...</td>\n      <td>...</td>\n      <td>...</td>\n      <td>...</td>\n      <td>...</td>\n      <td>...</td>\n      <td>...</td>\n      <td>...</td>\n      <td>...</td>\n      <td>...</td>\n      <td>...</td>\n    </tr>\n    <tr>\n      <th>78170</th>\n      <td>70705</td>\n      <td>Twitter</td>\n      <td>1.11852926516164E+018</td>\n      <td>2019-04-17T14:58:52Z</td>\n      <td>MATTEO SALVINI</td>\n      <td>M</td>\n      <td>EFDD</td>\n      <td>LEGA</td>\n      <td>Lega</td>\n      <td>governo</td>\n      <td>...</td>\n      <td>6.82</td>\n      <td>2.27</td>\n      <td>0.0</td>\n      <td>0.0</td>\n      <td>0.0</td>\n      <td>0.0</td>\n      <td>0.0</td>\n      <td>6.82</td>\n      <td>0.0</td>\n      <td>6.82</td>\n    </tr>\n    <tr>\n      <th>78171</th>\n      <td>43288</td>\n      <td>Twitter</td>\n      <td>1.11846561220288E+018</td>\n      <td>2019-04-17T10:45:56Z</td>\n      <td>CÉCILE KYENGE</td>\n      <td>F</td>\n      <td>PSE</td>\n      <td>Siamo Europei</td>\n      <td>PD</td>\n      <td>opposizione</td>\n      <td>...</td>\n      <td>6.82</td>\n      <td>2.27</td>\n      <td>0.0</td>\n      <td>0.0</td>\n      <td>0.0</td>\n      <td>0.0</td>\n      <td>0.0</td>\n      <td>6.82</td>\n      <td>0.0</td>\n      <td>6.82</td>\n    </tr>\n    <tr>\n      <th>78172</th>\n      <td>70478</td>\n      <td>Twitter</td>\n      <td>1.11825025930045E+018</td>\n      <td>2019-04-16T20:30:12Z</td>\n      <td>MATTEO SALVINI</td>\n      <td>M</td>\n      <td>EFDD</td>\n      <td>LEGA</td>\n      <td>Lega</td>\n      <td>governo</td>\n      <td>...</td>\n      <td>3.12</td>\n      <td>6.25</td>\n      <td>0.0</td>\n      <td>0.0</td>\n      <td>0.0</td>\n      <td>0.0</td>\n      <td>0.0</td>\n      <td>0.00</td>\n      <td>0.0</td>\n      <td>9.38</td>\n    </tr>\n    <tr>\n      <th>78173</th>\n      <td>69430</td>\n      <td>Twitter</td>\n      <td>1.11824474991438E+018</td>\n      <td>2019-04-16T20:08:19Z</td>\n      <td>MATTEO SALVINI</td>\n      <td>M</td>\n      <td>EFDD</td>\n      <td>LEGA</td>\n      <td>Lega</td>\n      <td>governo</td>\n      <td>...</td>\n      <td>5.41</td>\n      <td>2.70</td>\n      <td>0.0</td>\n      <td>0.0</td>\n      <td>0.0</td>\n      <td>0.0</td>\n      <td>0.0</td>\n      <td>0.00</td>\n      <td>0.0</td>\n      <td>13.51</td>\n    </tr>\n    <tr>\n      <th>78174</th>\n      <td>45602</td>\n      <td>Twitter</td>\n      <td>1.11780731706662E+018</td>\n      <td>2019-04-15T15:10:06Z</td>\n      <td>MATTEO SALVINI</td>\n      <td>M</td>\n      <td>EFDD</td>\n      <td>LEGA</td>\n      <td>Lega</td>\n      <td>governo</td>\n      <td>...</td>\n      <td>3.92</td>\n      <td>0.00</td>\n      <td>0.0</td>\n      <td>0.0</td>\n      <td>0.0</td>\n      <td>0.0</td>\n      <td>0.0</td>\n      <td>0.00</td>\n      <td>0.0</td>\n      <td>0.00</td>\n    </tr>\n  </tbody>\n</table>\n<p>78175 rows × 243 columns</p>\n</div>"
     },
     "metadata": {},
     "execution_count": 2
    }
   ],
   "source": [
    "import pandas as pd \n",
    "import numpy as np \n",
    "import networkx as nx\n",
    "\n",
    "import statsmodels\n",
    "import statsmodels.api as sm\n",
    "import scipy.stats as stats\n",
    "\n",
    "import matplotlib.pyplot as plt\n",
    "\n",
    "# import the csv file with JUST the politicians post\n",
    "comDB = pd.read_csv(r\"/Users/tassan-mazzoccoarthur/Desktop/NETWORK SCIENCE (MOD. B)/1_Project/database/com_liwc.csv\", sep='\\t', engine='python')\n",
    "\n",
    "df = pd.DataFrame(data=comDB)\n",
    "df"
   ]
  },
  {
   "cell_type": "code",
   "execution_count": 9,
   "metadata": {},
   "outputs": [
    {
     "output_type": "execute_result",
     "data": {
      "text/plain": [
       "       Origin_file_order     Site                           p_id  \\\n",
       "370                76380       FB  96844400700_10157503425970701   \n",
       "371                76384       FB  96844400700_10157503425970701   \n",
       "372                76392       FB  96844400700_10157503425970701   \n",
       "373                30415       FB  96844400700_10157493758850701   \n",
       "374                62873       FB  96844400700_10157493758850701   \n",
       "...                  ...      ...                            ...   \n",
       "68372              16349  Twitter          1.12709766541678E+018   \n",
       "68373              84364  Twitter          1.12709766541678E+018   \n",
       "68374              35174  Twitter          1.12323118646006E+018   \n",
       "68375              35381  Twitter          1.12323118646006E+018   \n",
       "68376              49077  Twitter          1.12323118646006E+018   \n",
       "\n",
       "                dateCreated      p_politician p_gender p_GRUPPO_PE  \\\n",
       "370    2019-04-26T04:17:54Z  MARCELLO GEMMATO        M         PPE   \n",
       "371    2019-04-26T04:17:54Z  MARCELLO GEMMATO        M         PPE   \n",
       "372    2019-04-26T04:17:54Z  MARCELLO GEMMATO        M         PPE   \n",
       "373    2019-04-23T10:33:37Z  MARCELLO GEMMATO        M         PPE   \n",
       "374    2019-04-23T10:33:37Z  MARCELLO GEMMATO        M         PPE   \n",
       "...                     ...               ...      ...         ...   \n",
       "68372  2019-05-11T06:26:38Z     CARLO CALENDA        M         PSE   \n",
       "68373  2019-05-11T06:26:38Z     CARLO CALENDA        M         PSE   \n",
       "68374  2019-04-30T14:22:38Z     CARLO CALENDA        M         PSE   \n",
       "68375  2019-04-30T14:22:38Z     CARLO CALENDA        M         PSE   \n",
       "68376  2019-04-30T14:22:38Z     CARLO CALENDA        M         PSE   \n",
       "\n",
       "             p_LISTA p_PARTITO    p_governo  ... p_Comma p_Colon p_SemiC  \\\n",
       "370              FDI       FDI  opposizione  ...    0.00    0.00     0.0   \n",
       "371              FDI       FDI  opposizione  ...    5.71    1.43     0.0   \n",
       "372              FDI       FDI  opposizione  ...    4.44    0.00     0.0   \n",
       "373              FDI       FDI  opposizione  ...    4.44    0.00     0.0   \n",
       "374              FDI       FDI  opposizione  ...    0.00    0.00     0.0   \n",
       "...              ...       ...          ...  ...     ...     ...     ...   \n",
       "68372  Siamo Europei        PD  opposizione  ...    2.70    0.00     0.0   \n",
       "68373  Siamo Europei        PD  opposizione  ...    2.70    0.00     0.0   \n",
       "68374  Siamo Europei        PD  opposizione  ...    0.00   12.50     0.0   \n",
       "68375  Siamo Europei        PD  opposizione  ...    0.00   12.50     0.0   \n",
       "68376  Siamo Europei        PD  opposizione  ...    0.00    0.00     0.0   \n",
       "\n",
       "       p_Qmark  p_Exclam  p_Dash  p_Quote  p_Apostro  p_Parenth p_OtherP  \n",
       "370        0.0     10.00     0.0     0.00      20.00        0.0    10.00  \n",
       "371        0.0      0.00     0.0     0.00       2.86        0.0     1.43  \n",
       "372        0.0      4.44     0.0     0.00       0.00        0.0     2.22  \n",
       "373        0.0      4.44     0.0     0.00       0.00        0.0     2.22  \n",
       "374        0.0      0.00     0.0     0.00       6.06        0.0     0.00  \n",
       "...        ...       ...     ...      ...        ...        ...      ...  \n",
       "68372      0.0      0.00     0.0    16.22       2.70        0.0    27.03  \n",
       "68373      0.0      0.00     0.0    16.22       2.70        0.0    27.03  \n",
       "68374      0.0      0.00     0.0    25.00       0.00        0.0    37.50  \n",
       "68375      0.0      0.00     0.0    25.00       0.00        0.0    37.50  \n",
       "68376      0.0      0.00     0.0     0.00       0.00        0.0     0.00  \n",
       "\n",
       "[41954 rows x 243 columns]"
      ],
      "text/html": "<div>\n<style scoped>\n    .dataframe tbody tr th:only-of-type {\n        vertical-align: middle;\n    }\n\n    .dataframe tbody tr th {\n        vertical-align: top;\n    }\n\n    .dataframe thead th {\n        text-align: right;\n    }\n</style>\n<table border=\"1\" class=\"dataframe\">\n  <thead>\n    <tr style=\"text-align: right;\">\n      <th></th>\n      <th>Origin_file_order</th>\n      <th>Site</th>\n      <th>p_id</th>\n      <th>dateCreated</th>\n      <th>p_politician</th>\n      <th>p_gender</th>\n      <th>p_GRUPPO_PE</th>\n      <th>p_LISTA</th>\n      <th>p_PARTITO</th>\n      <th>p_governo</th>\n      <th>...</th>\n      <th>p_Comma</th>\n      <th>p_Colon</th>\n      <th>p_SemiC</th>\n      <th>p_Qmark</th>\n      <th>p_Exclam</th>\n      <th>p_Dash</th>\n      <th>p_Quote</th>\n      <th>p_Apostro</th>\n      <th>p_Parenth</th>\n      <th>p_OtherP</th>\n    </tr>\n  </thead>\n  <tbody>\n    <tr>\n      <th>370</th>\n      <td>76380</td>\n      <td>FB</td>\n      <td>96844400700_10157503425970701</td>\n      <td>2019-04-26T04:17:54Z</td>\n      <td>MARCELLO GEMMATO</td>\n      <td>M</td>\n      <td>PPE</td>\n      <td>FDI</td>\n      <td>FDI</td>\n      <td>opposizione</td>\n      <td>...</td>\n      <td>0.00</td>\n      <td>0.00</td>\n      <td>0.0</td>\n      <td>0.0</td>\n      <td>10.00</td>\n      <td>0.0</td>\n      <td>0.00</td>\n      <td>20.00</td>\n      <td>0.0</td>\n      <td>10.00</td>\n    </tr>\n    <tr>\n      <th>371</th>\n      <td>76384</td>\n      <td>FB</td>\n      <td>96844400700_10157503425970701</td>\n      <td>2019-04-26T04:17:54Z</td>\n      <td>MARCELLO GEMMATO</td>\n      <td>M</td>\n      <td>PPE</td>\n      <td>FDI</td>\n      <td>FDI</td>\n      <td>opposizione</td>\n      <td>...</td>\n      <td>5.71</td>\n      <td>1.43</td>\n      <td>0.0</td>\n      <td>0.0</td>\n      <td>0.00</td>\n      <td>0.0</td>\n      <td>0.00</td>\n      <td>2.86</td>\n      <td>0.0</td>\n      <td>1.43</td>\n    </tr>\n    <tr>\n      <th>372</th>\n      <td>76392</td>\n      <td>FB</td>\n      <td>96844400700_10157503425970701</td>\n      <td>2019-04-26T04:17:54Z</td>\n      <td>MARCELLO GEMMATO</td>\n      <td>M</td>\n      <td>PPE</td>\n      <td>FDI</td>\n      <td>FDI</td>\n      <td>opposizione</td>\n      <td>...</td>\n      <td>4.44</td>\n      <td>0.00</td>\n      <td>0.0</td>\n      <td>0.0</td>\n      <td>4.44</td>\n      <td>0.0</td>\n      <td>0.00</td>\n      <td>0.00</td>\n      <td>0.0</td>\n      <td>2.22</td>\n    </tr>\n    <tr>\n      <th>373</th>\n      <td>30415</td>\n      <td>FB</td>\n      <td>96844400700_10157493758850701</td>\n      <td>2019-04-23T10:33:37Z</td>\n      <td>MARCELLO GEMMATO</td>\n      <td>M</td>\n      <td>PPE</td>\n      <td>FDI</td>\n      <td>FDI</td>\n      <td>opposizione</td>\n      <td>...</td>\n      <td>4.44</td>\n      <td>0.00</td>\n      <td>0.0</td>\n      <td>0.0</td>\n      <td>4.44</td>\n      <td>0.0</td>\n      <td>0.00</td>\n      <td>0.00</td>\n      <td>0.0</td>\n      <td>2.22</td>\n    </tr>\n    <tr>\n      <th>374</th>\n      <td>62873</td>\n      <td>FB</td>\n      <td>96844400700_10157493758850701</td>\n      <td>2019-04-23T10:33:37Z</td>\n      <td>MARCELLO GEMMATO</td>\n      <td>M</td>\n      <td>PPE</td>\n      <td>FDI</td>\n      <td>FDI</td>\n      <td>opposizione</td>\n      <td>...</td>\n      <td>0.00</td>\n      <td>0.00</td>\n      <td>0.0</td>\n      <td>0.0</td>\n      <td>0.00</td>\n      <td>0.0</td>\n      <td>0.00</td>\n      <td>6.06</td>\n      <td>0.0</td>\n      <td>0.00</td>\n    </tr>\n    <tr>\n      <th>...</th>\n      <td>...</td>\n      <td>...</td>\n      <td>...</td>\n      <td>...</td>\n      <td>...</td>\n      <td>...</td>\n      <td>...</td>\n      <td>...</td>\n      <td>...</td>\n      <td>...</td>\n      <td>...</td>\n      <td>...</td>\n      <td>...</td>\n      <td>...</td>\n      <td>...</td>\n      <td>...</td>\n      <td>...</td>\n      <td>...</td>\n      <td>...</td>\n      <td>...</td>\n      <td>...</td>\n    </tr>\n    <tr>\n      <th>68372</th>\n      <td>16349</td>\n      <td>Twitter</td>\n      <td>1.12709766541678E+018</td>\n      <td>2019-05-11T06:26:38Z</td>\n      <td>CARLO CALENDA</td>\n      <td>M</td>\n      <td>PSE</td>\n      <td>Siamo Europei</td>\n      <td>PD</td>\n      <td>opposizione</td>\n      <td>...</td>\n      <td>2.70</td>\n      <td>0.00</td>\n      <td>0.0</td>\n      <td>0.0</td>\n      <td>0.00</td>\n      <td>0.0</td>\n      <td>16.22</td>\n      <td>2.70</td>\n      <td>0.0</td>\n      <td>27.03</td>\n    </tr>\n    <tr>\n      <th>68373</th>\n      <td>84364</td>\n      <td>Twitter</td>\n      <td>1.12709766541678E+018</td>\n      <td>2019-05-11T06:26:38Z</td>\n      <td>CARLO CALENDA</td>\n      <td>M</td>\n      <td>PSE</td>\n      <td>Siamo Europei</td>\n      <td>PD</td>\n      <td>opposizione</td>\n      <td>...</td>\n      <td>2.70</td>\n      <td>0.00</td>\n      <td>0.0</td>\n      <td>0.0</td>\n      <td>0.00</td>\n      <td>0.0</td>\n      <td>16.22</td>\n      <td>2.70</td>\n      <td>0.0</td>\n      <td>27.03</td>\n    </tr>\n    <tr>\n      <th>68374</th>\n      <td>35174</td>\n      <td>Twitter</td>\n      <td>1.12323118646006E+018</td>\n      <td>2019-04-30T14:22:38Z</td>\n      <td>CARLO CALENDA</td>\n      <td>M</td>\n      <td>PSE</td>\n      <td>Siamo Europei</td>\n      <td>PD</td>\n      <td>opposizione</td>\n      <td>...</td>\n      <td>0.00</td>\n      <td>12.50</td>\n      <td>0.0</td>\n      <td>0.0</td>\n      <td>0.00</td>\n      <td>0.0</td>\n      <td>25.00</td>\n      <td>0.00</td>\n      <td>0.0</td>\n      <td>37.50</td>\n    </tr>\n    <tr>\n      <th>68375</th>\n      <td>35381</td>\n      <td>Twitter</td>\n      <td>1.12323118646006E+018</td>\n      <td>2019-04-30T14:22:38Z</td>\n      <td>CARLO CALENDA</td>\n      <td>M</td>\n      <td>PSE</td>\n      <td>Siamo Europei</td>\n      <td>PD</td>\n      <td>opposizione</td>\n      <td>...</td>\n      <td>0.00</td>\n      <td>12.50</td>\n      <td>0.0</td>\n      <td>0.0</td>\n      <td>0.00</td>\n      <td>0.0</td>\n      <td>25.00</td>\n      <td>0.00</td>\n      <td>0.0</td>\n      <td>37.50</td>\n    </tr>\n    <tr>\n      <th>68376</th>\n      <td>49077</td>\n      <td>Twitter</td>\n      <td>1.12323118646006E+018</td>\n      <td>2019-04-30T14:22:38Z</td>\n      <td>CARLO CALENDA</td>\n      <td>M</td>\n      <td>PSE</td>\n      <td>Siamo Europei</td>\n      <td>PD</td>\n      <td>opposizione</td>\n      <td>...</td>\n      <td>0.00</td>\n      <td>0.00</td>\n      <td>0.0</td>\n      <td>0.0</td>\n      <td>0.00</td>\n      <td>0.0</td>\n      <td>0.00</td>\n      <td>0.00</td>\n      <td>0.0</td>\n      <td>0.00</td>\n    </tr>\n  </tbody>\n</table>\n<p>41954 rows × 243 columns</p>\n</div>"
     },
     "metadata": {},
     "execution_count": 9
    }
   ],
   "source": [
    "df_trunc =  df[df['c_rating']=='positivo']\n",
    "df_trunc"
   ]
  },
  {
   "source": [
    "# Matrix creation"
   ],
   "cell_type": "markdown",
   "metadata": {}
  },
  {
   "cell_type": "code",
   "execution_count": null,
   "metadata": {},
   "outputs": [],
   "source": [
    "## Matrix creation with parties, politicians, posts"
   ]
  },
  {
   "cell_type": "code",
   "execution_count": 3,
   "metadata": {},
   "outputs": [
    {
     "output_type": "stream",
     "name": "stdout",
     "text": [
      "(88393, 88393)\n"
     ]
    }
   ],
   "source": [
    "#Setting variables\n",
    "size_df= len(df)\n",
    "parties=df['p_PARTITO'].unique().tolist()\n",
    "pol=df['p_politician'].unique().tolist()\n",
    "post=df['p_id'].unique().tolist()\n",
    "\n",
    "#Matrix shape= root/party/party.....pol/pol/pol/...../post/post/.../com/com\n",
    "total_size=1+len(parties)+len(pol)+len(post)+size_df\n",
    "shift_size=1+len(parties)+len(pol)+len(post)\n",
    "matrix = np.identity(total_size,dtype=int)\n",
    "\n",
    "for i in range(size_df):\n",
    "    #for each post with have to add 1 to the link party-politician, 1 to the link politician-post, 1 to the link post-comment\n",
    "    index_party=parties.index(df['p_PARTITO'][i])+1 #add 1 for the root element\n",
    "    index_pol=pol.index(df['p_politician'][i])+1+len(parties)\n",
    "    index_post=post.index(df['p_id'][i])+1+len(parties)+len(pol)\n",
    "\n",
    "    #We fill the 1rst half of the matrix\n",
    "    matrix[0][index_party]+=1 #add 1 to link root-party\n",
    "    matrix[index_party][index_pol]+=1 #add 1 to the link party-politician\n",
    "    matrix[index_pol][i+1+len(parties)+len(pol)]+=1 #1 to the link politician-post\n",
    "    matrix[index_post][i+shift_size]+=1 #1 to the link post-comment\n",
    "    #now we fill the other half (lower-left one)\n",
    "    matrix[index_party][0]+=1\n",
    "    matrix[index_pol][index_party]+=1\n",
    "    matrix[i+1+len(parties)+len(pol)][index_pol]+=1 \n",
    "    matrix[i+shift_size][index_post]+=1\n",
    "\n",
    "m=np.asmatrix(matrix)\n",
    "print(m.shape)"
   ]
  },
  {
   "source": [
    "## Topic matrix:"
   ],
   "cell_type": "markdown",
   "metadata": {}
  },
  {
   "cell_type": "code",
   "execution_count": 12,
   "metadata": {},
   "outputs": [
    {
     "output_type": "stream",
     "name": "stdout",
     "text": [
      "(78450, 78450)\n"
     ]
    }
   ],
   "source": [
    "#connect comments together on same topic -> only post and com matrix\n",
    "topic=df['c_topic'].unique().tolist()\n",
    "\n",
    "#Matrix creation\n",
    "#topic/topic/...com/com\n",
    "total_size=len(topic)+size_df\n",
    "shift_size=len(topic)\n",
    "topic_matrix = np.identity(total_size,dtype=int)\n",
    "for i in range(size_df):\n",
    "    index_topic=topic.index(df['c_topic'][i])+shift_size\n",
    "    topic_matrix[index_topic][i+shift_size]+=1 #1 to the link comment-topic\n",
    "    topic_matrix[i+shift_size][index_topic]+=1\n",
    "    \n",
    "m_topic=np.asmatrix(topic_matrix)\n",
    "print(m_topic.shape)\n",
    "\n",
    "#NEED TO ADD LINK BETWEEN TOPICS???? \n",
    "#CREATE A ROOT????\n",
    "#ADD C_RATING"
   ]
  },
  {
   "cell_type": "code",
   "execution_count": null,
   "metadata": {},
   "outputs": [],
   "source": [
    "m_topic"
   ]
  },
  {
   "cell_type": "code",
   "execution_count": 13,
   "metadata": {},
   "outputs": [
    {
     "output_type": "execute_result",
     "data": {
      "text/plain": [
       "275"
      ]
     },
     "metadata": {},
     "execution_count": 13
    }
   ],
   "source": [
    "topic=df['c_topic'].unique().tolist()\n",
    "len(topic)"
   ]
  },
  {
   "cell_type": "code",
   "execution_count": 14,
   "metadata": {},
   "outputs": [],
   "source": [
    "G_topic = nx.from_numpy_matrix(m_topic)"
   ]
  },
  {
   "cell_type": "code",
   "execution_count": null,
   "metadata": {},
   "outputs": [],
   "source": [
    "nx.write_graphml(G_topic, \"topic_com_attributes_networkx_export.graphml\") "
   ]
  },
  {
   "source": [
    "# Adding attributes"
   ],
   "cell_type": "markdown",
   "metadata": {}
  },
  {
   "cell_type": "code",
   "execution_count": 5,
   "metadata": {},
   "outputs": [],
   "source": [
    "import math\n",
    "#create a dictionnary of attributes to update a networkx graph \n",
    "# you should change the elements of the \"attributes\" array to select the attributes you want\n",
    "def create_attributes_dict_com(pandas_df, index_shift): #index_shift -> value to shift the index of the nodes we focus our attention on\n",
    "#for example: if the matrix is topic/topic/topic.....comments/comments/comments the shift size will be the number of topic\n",
    "#note: the shape of the dictionnary to update the node with index 0 is :\n",
    "#       attrs = {0: {\"p_PARTITO\": df_post['p_PARTITO'][0], \"p_politician\": df_post['p_politician'][0]}}\n",
    "    attributes=[\"p_PARTITO\"]\n",
    "    #attributes=[\"p_PARTITO\",\"p_politician\",\"p_favoriteCount\",\"p_shareCount\",\"p_replyCount\",\"p_numComments\",\"p_rating\",\"p_topic\",\"p_campagna\",\"c_rating\"]\n",
    "    att_dict = {} #final dict to be returned\n",
    "    for index in pandas_df.index:\n",
    "        temp_dict={}\n",
    "        for att in attributes:\n",
    "            #we need to delete the \"nan\" values\n",
    "            if(isinstance(pandas_df[att][index], float)):\n",
    "                if(not math.isnan(pandas_df[att][index])):\n",
    "                    temp_dict[att]=pandas_df[att][index]\n",
    "            else:\n",
    "                temp_dict[att]=pandas_df[att][index]\n",
    "        temp_dict[\"label\"]=index+shift_size #we set the node label to its index in the dataframe\n",
    "        temp_dict[\"type\"]=\"com\" #we set the node type\n",
    "        att_dict[index+index_shift]=temp_dict.copy() #don't fprget that the good index in the dictionnary is + shift_size\n",
    "    return att_dict"
   ]
  },
  {
   "cell_type": "code",
   "execution_count": 6,
   "metadata": {},
   "outputs": [],
   "source": [
    "#create a dictionnary of attributes for the topics\n",
    "def add_com_topic_att(pandas_df, topic): #param = lists\n",
    "    att_dict = {}\n",
    "    for i in range(len(topic)):\n",
    "        #att_dict[i+1]={\"label\":topic[i], \"type\":\"topic\"} #this line if we have a root element\n",
    "        att_dict[i]={\"label\":topic[i], \"type\":\"topic\"}\n",
    "    return att_dict"
   ]
  },
  {
   "cell_type": "code",
   "execution_count": null,
   "metadata": {},
   "outputs": [],
   "source": [
    "attributes_dict_com=create_attributes_dict_com(df,shift_size) #we create the dict for the comments\n",
    "missing_attributes_dict_com=add_com_topic_att(df,topic) #we create the dict for the topic...\n",
    "attributes_dict_com.update(missing_attributes_dict_com) #and add it to the one for the comments\n",
    "nx.set_node_attributes(G, attributes_dict_com) #finally we set the nodes' attributes in the graph"
   ]
  },
  {
   "cell_type": "code",
   "execution_count": null,
   "metadata": {},
   "outputs": [],
   "source": [
    "nx.write_graphml(G_topic, \"topic_com_attributes_networkx_export.graphml\") #export the graph as a GraphML XML file"
   ]
  },
  {
   "source": [
    "# Some cheks"
   ],
   "cell_type": "markdown",
   "metadata": {}
  },
  {
   "cell_type": "code",
   "execution_count": 4,
   "metadata": {},
   "outputs": [
    {
     "output_type": "stream",
     "name": "stdout",
     "text": [
      "[[    1 10245 18760 ...     0     0     0]\n [10245     1     0 ...     0     0     0]\n [18760     0     1 ...     0     0     0]\n ...\n [    0     0     0 ...     1     0     0]\n [    0     0     0 ...     0     1     0]\n [    0     0     0 ...     0     0     1]]\n"
     ]
    }
   ],
   "source": [
    "import networkx as nx\n",
    "#First let's try with a small matrix\n",
    "m_trunc=m[:40000,:40000]\n",
    "np.set_printoptions(linewidth=200)\n",
    "print(m_trunc)\n",
    "G_trunc = nx.from_numpy_matrix(m_trunc)"
   ]
  },
  {
   "cell_type": "code",
   "execution_count": 7,
   "metadata": {},
   "outputs": [],
   "source": [
    "nx.write_graphml(G_trunc, \"com_attributes_networkx_export.graphml\") "
   ]
  }
 ]
}