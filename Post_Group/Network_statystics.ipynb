{
  "nbformat": 4,
  "nbformat_minor": 0,
  "metadata": {
    "colab": {
      "name": "Network_statystics.ipynb",
      "provenance": [],
      "collapsed_sections": [],
      "include_colab_link": true
    },
    "kernelspec": {
      "name": "python3",
      "display_name": "Python 3.9.0 64-bit",
      "metadata": {
        "interpreter": {
          "hash": "aee8b7b246df8f9039afb4144a1f6fd8d2ca17a180786b69acc140d282b71a49"
        }
      }
    },
    "language_info": {
      "codemirror_mode": {
        "name": "ipython",
        "version": 3
      },
      "file_extension": ".py",
      "mimetype": "text/x-python",
      "name": "python",
      "nbconvert_exporter": "python",
      "pygments_lexer": "ipython3",
      "version": "3.9.0-final"
    }
  },
  "cells": [
    {
      "cell_type": "markdown",
      "metadata": {
        "id": "view-in-github",
        "colab_type": "text"
      },
      "source": [
        "<a href=\"https://colab.research.google.com/github/SalvatoreRomano1/net2020/blob/main/Post_Group/Network_statystics.ipynb\" target=\"_parent\"><img src=\"https://colab.research.google.com/assets/colab-badge.svg\" alt=\"Open In Colab\"/></a>"
      ]
    },
    {
      "cell_type": "code",
      "metadata": {
        "id": "f6l_sl2Owehh",
        "scrolled": true
      },
      "source": [
        "import pandas as pd \n",
        "import numpy as np\n",
        "import os\n",
        "import networkx as nx\n",
        "\n",
        "import statsmodels\n",
        "import statsmodels.api as sm\n",
        "import scipy.stats as stats\n",
        "import scipy.sparse as sparse\n",
        "\n",
        "import matplotlib.pyplot as plt\n",
        "\n",
        "from operator import itemgetter\n",
        "import operator\n",
        "from collections import Counter\n",
        "import random"
      ],
      "execution_count": 91,
      "outputs": []
    },
    {
      "cell_type": "code",
      "metadata": {
        "id": "Wu74svPSErUq",
        "colab": {
          "base_uri": "https://localhost:8080/"
        },
        "outputId": "db1a5738-4282-48f0-edf8-b5780dc4ece5"
      },
      "source": [
        "pip install powerlaw\r\n"
      ],
      "execution_count": 34,
      "outputs": [
        {
          "output_type": "stream",
          "text": [
            "Requirement already satisfied: powerlaw in /usr/local/lib/python3.6/dist-packages (1.4.6)\n",
            "Requirement already satisfied: scipy in /usr/local/lib/python3.6/dist-packages (from powerlaw) (1.4.1)\n",
            "Requirement already satisfied: mpmath in /usr/local/lib/python3.6/dist-packages (from powerlaw) (1.1.0)\n",
            "Requirement already satisfied: matplotlib in /usr/local/lib/python3.6/dist-packages (from powerlaw) (3.2.2)\n",
            "Requirement already satisfied: numpy in /usr/local/lib/python3.6/dist-packages (from powerlaw) (1.19.5)\n",
            "Requirement already satisfied: cycler>=0.10 in /usr/local/lib/python3.6/dist-packages (from matplotlib->powerlaw) (0.10.0)\n",
            "Requirement already satisfied: kiwisolver>=1.0.1 in /usr/local/lib/python3.6/dist-packages (from matplotlib->powerlaw) (1.3.1)\n",
            "Requirement already satisfied: python-dateutil>=2.1 in /usr/local/lib/python3.6/dist-packages (from matplotlib->powerlaw) (2.8.1)\n",
            "Requirement already satisfied: pyparsing!=2.0.4,!=2.1.2,!=2.1.6,>=2.0.1 in /usr/local/lib/python3.6/dist-packages (from matplotlib->powerlaw) (2.4.7)\n",
            "Requirement already satisfied: six in /usr/local/lib/python3.6/dist-packages (from cycler>=0.10->matplotlib->powerlaw) (1.15.0)\n"
          ],
          "name": "stdout"
        }
      ]
    },
    {
      "cell_type": "code",
      "metadata": {
        "colab": {
          "base_uri": "https://localhost:8080/"
        },
        "id": "iMTHVkEkVyyT",
        "outputId": "6050a86b-1342-4639-f262-f0754ce19145"
      },
      "source": [
        "pip install python-louvain"
      ],
      "execution_count": 35,
      "outputs": [
        {
          "output_type": "stream",
          "text": [
            "Requirement already satisfied: python-louvain in /usr/local/lib/python3.6/dist-packages (0.15)\n",
            "Requirement already satisfied: networkx in /usr/local/lib/python3.6/dist-packages (from python-louvain) (2.5)\n",
            "Requirement already satisfied: numpy in /usr/local/lib/python3.6/dist-packages (from python-louvain) (1.19.5)\n",
            "Requirement already satisfied: decorator>=4.3.0 in /usr/local/lib/python3.6/dist-packages (from networkx->python-louvain) (4.4.2)\n"
          ],
          "name": "stdout"
        }
      ]
    },
    {
      "cell_type": "code",
      "metadata": {
        "id": "xv3tm1xWEr90"
      },
      "source": [
        "import powerlaw\r\n",
        "import community as community_louvain"
      ],
      "execution_count": 92,
      "outputs": []
    },
    {
      "cell_type": "code",
      "metadata": {
        "colab": {
          "base_uri": "https://localhost:8080/"
        },
        "id": "tM0NWCd73eJB",
        "outputId": "9db9e071-a7ce-4c5f-ceb8-8b42136944a3"
      },
      "source": [
        "from google.colab import drive\n",
        "drive.mount('/content/gdrive')"
      ],
      "execution_count": 37,
      "outputs": [
        {
          "output_type": "stream",
          "text": [
            "Drive already mounted at /content/gdrive; to attempt to forcibly remount, call drive.mount(\"/content/gdrive\", force_remount=True).\n"
          ],
          "name": "stdout"
        }
      ]
    },
    {
      "cell_type": "markdown",
      "metadata": {
        "id": "mkDT4O75BsBK"
      },
      "source": [
        "# Networks creation"
      ]
    },
    {
      "cell_type": "code",
      "metadata": {
        "id": "MZ5HmAyv4Tu6"
      },
      "source": [
        "biad_edges = \"edgelist_bipartite_hash_set0.csv\"\r\n",
        "biad_nodes = \"nodelist_bipartite_hash_set0.csv\"\r\n",
        "\r\n",
        "proj_nodes = 'nodelist_projection_hash_0.csv'\r\n",
        "proj_edges = 'edgelist_projection_hash_0.csv'\r\n"
      ],
      "execution_count": 96,
      "outputs": []
    },
    {
      "cell_type": "code",
      "metadata": {
        "id": "xpFp85mcDGZg"
      },
      "source": [
        "# import the csv file \r\n",
        "edgesbiad = pd.read_csv(biad_edges,  sep=',', engine='python')\r\n",
        "nodesbiad = pd.read_csv(biad_nodes, sep=',', engine='python')\r\n",
        "\r\n",
        "Gbiad = nx.Graph()\r\n",
        "Gbiad = nx.from_pandas_edgelist(edgesbiad, 'source', 'target', ['weight'])\t\r\n",
        "data = nodesbiad.set_index('Id').to_dict('index').items()\r\n",
        "Gbiad.add_nodes_from(data)"
      ],
      "execution_count": 94,
      "outputs": []
    },
    {
      "cell_type": "code",
      "metadata": {
        "id": "T7r7qD9GBwsO"
      },
      "source": [
        "nodesproj = pd.read_csv(proj_nodes, sep=',', engine='python')\r\n",
        "edgesproj = pd.read_csv(proj_edges,  sep=',', engine='python')\r\n",
        "\r\n",
        "Gproj = nx.Graph()\r\n",
        "Gproj = nx.from_pandas_edgelist(edgesproj, 'source', 'target', ['weight'])\t\r\n",
        "data = nodesproj.set_index('Id').to_dict('index').items()\r\n",
        "Gproj.add_nodes_from(data)"
      ],
      "execution_count": 97,
      "outputs": []
    },
    {
      "cell_type": "markdown",
      "metadata": {
        "id": "mesZtQgv2XnN"
      },
      "source": [
        "# general parameter on projection"
      ]
    },
    {
      "cell_type": "code",
      "metadata": {
        "id": "oylpzdgWMRX9"
      },
      "source": [
        "def average_2_3_degree(G):\r\n",
        "  k = 0\r\n",
        "  k_2 = 0\r\n",
        "  k_3 = 0\r\n",
        "  for i in range(len(G.nodes())):\r\n",
        "    k = k+G.degree(i)\r\n",
        "    k_2 = k_2 + G.degree(i)*G.degree(i)\r\n",
        "    k_3 = k_3 + G.degree(i)*G.degree(i)*G.degree(i)\r\n",
        "  k = k/len(G.nodes())\r\n",
        "  k_2 = k_2/len(G.nodes())\r\n",
        "  k_3 = k_3/len(G.nodes())\r\n",
        "  return k,k_2,k_3\r\n",
        "\r\n",
        "def degree_graph(G):\r\n",
        "  degree_dict = dict(G.degree(G.nodes()))\r\n",
        "  \r\n",
        "  min_degree = degree_dict[min(degree_dict, key=degree_dict.get)]\r\n",
        "  max_degree = degree_dict[max(degree_dict, key=degree_dict.get)]\r\n",
        "  return degree_dict, min_degree, max_degree\r\n",
        "\r\n",
        "def power_law(G):\r\n",
        "  degree_sequence = sorted([d for n, d in G.degree()], reverse=True) \r\n",
        "  fit = powerlaw.Fit(degree_sequence) \r\n",
        "  alpha = fit.power_law.alpha\r\n",
        "  return alpha\r\n",
        "\r\n"
      ],
      "execution_count": 98,
      "outputs": []
    },
    {
      "cell_type": "code",
      "metadata": {
        "colab": {
          "base_uri": "https://localhost:8080/"
        },
        "id": "GECknQGJL_7N",
        "outputId": "61d64c24-6b93-4b62-f8b4-08dc08140e94"
      },
      "source": [
        "k,k2,k3 = average_2_3_degree(Gproj)\r\n",
        "degree_dict, min_degree, max_degree = degree_graph(Gproj)\r\n",
        "alpha = power_law(Gproj)\r\n",
        "degree_variance = k2 - k*k\r\n",
        "density= nx.density(Gproj)\r\n",
        "print('Second order average degree: '+str (k2))\r\n",
        "print('Third order average degree: '+str (k3))\r\n",
        "print('Min degree: '+str(min_degree))\r\n",
        "print('Max degree: '+str(max_degree))\r\n",
        "print('Power law coefficient: '+str(alpha))\r\n",
        "print('Variance: '+str(degree_variance))\r\n",
        "print('Density: '+str(density))\r\n",
        "print(nx.info(Gproj))"
      ],
      "execution_count": 99,
      "outputs": [
        {
          "output_type": "stream",
          "text": [
            "Second order average degree: 48.6875\n",
            "Third order average degree: 818.4375\n",
            "Min degree: 0\n",
            "Max degree: 30\n",
            "Power law coefficient: 2.4294476797920357\n",
            "Variance: 28.4375\n",
            "Density: 0.02830188679245283\n",
            "Name: \n",
            "Type: Graph\n",
            "Number of nodes: 160\n",
            "Number of edges: 360\n",
            "Average degree:   4.5000\n"
          ],
          "name": "stdout"
        },
        {
          "output_type": "stream",
          "text": [
            "Values less than or equal to 0 in data. Throwing out 0 or negative values\n",
            "Calculating best minimal value for power law fit\n",
            "/usr/local/lib/python3.6/dist-packages/powerlaw.py:700: RuntimeWarning: invalid value encountered in true_divide\n",
            "  (Theoretical_CDF * (1 - Theoretical_CDF))\n"
          ],
          "name": "stderr"
        }
      ]
    },
    {
      "cell_type": "markdown",
      "metadata": {
        "id": "ciejF7ON_15P"
      },
      "source": [
        "# diamerter and distance on projection"
      ]
    },
    {
      "cell_type": "code",
      "metadata": {
        "id": "LD8r22K0_6oA"
      },
      "source": [
        "def diameter_distance_dist(G):\r\n",
        "  if nx.is_connected(G):\r\n",
        "    diameter = nx.diameter(G)\r\n",
        "    ave_dist = nx.average_shortest_path_length(G)\r\n",
        "  else:\r\n",
        "    big = max(nx.connected_components(G), key=len)\r\n",
        "    sub_comp = G.subgraph(big).copy() \r\n",
        "    diameter = nx.diameter(sub_comp)\r\n",
        "    ave_dist = nx.average_shortest_path_length(sub_comp)\r\n",
        "  return diameter, ave_dist"
      ],
      "execution_count": 100,
      "outputs": []
    },
    {
      "cell_type": "code",
      "metadata": {
        "colab": {
          "base_uri": "https://localhost:8080/"
        },
        "id": "3hPwcTVT__Sr",
        "outputId": "ce5c1f62-d1a9-4885-af00-c2fd4cb0df1e"
      },
      "source": [
        "diameter, average_distance = diameter_distance_dist(Gproj)\r\n",
        "print('Network diameter: '+str(diameter))\r\n",
        "print('Average path length: '+str(average_distance))"
      ],
      "execution_count": 101,
      "outputs": [
        {
          "output_type": "stream",
          "text": [
            "Network diameter: 7\n",
            "Average path length: 3.1466003316749585\n"
          ],
          "name": "stdout"
        }
      ]
    },
    {
      "cell_type": "code",
      "metadata": {
        "id": "eXkhRdwTHyYy"
      },
      "source": [
        "def path_length(G,v):\r\n",
        "  return nx.single_source_shortest_path_length(G, v)\r\n",
        "def path(G):\r\n",
        "  all_path = [l for v in G for l in path_length(G,v).values()]\r\n",
        "  count= Counter(all_path)\r\n",
        "  label = count.keys()\r\n",
        "  path_len = count.values()\r\n",
        "  indexes = np.arange(len(label))\r\n",
        "  width = 1\r\n",
        "  plt.bar(indexes, path_len, align= 'center')# width)\r\n",
        "  plt.xticks(indexes,label)\r\n",
        "  plt.show()"
      ],
      "execution_count": 102,
      "outputs": []
    },
    {
      "cell_type": "code",
      "metadata": {
        "colab": {
          "base_uri": "https://localhost:8080/",
          "height": 265
        },
        "id": "JFaXohMcI4S0",
        "outputId": "7cedf195-f25e-4ef6-e9b1-07f0b87eae3d"
      },
      "source": [
        "path(Gproj)"
      ],
      "execution_count": 104,
      "outputs": [
        {
          "output_type": "display_data",
          "data": {
            "image/png": "[encoded data removed]",
            "text/plain": [
              "<Figure size 432x288 with 1 Axes>"
            ]
          },
          "metadata": {
            "tags": [],
            "needs_background": "light"
          }
        }
      ]
    },
    {
      "cell_type": "markdown",
      "metadata": {
        "id": "rbNDW2QANmzY"
      },
      "source": [
        "# degree distribution on projection"
      ]
    },
    {
      "cell_type": "code",
      "metadata": {
        "id": "KMsKzH7lLHBp"
      },
      "source": [
        "def degree_found(G):\r\n",
        "  degree_dict = dict(G.degree(G.nodes()))\r\n",
        "  nx.set_node_attributes(G, degree_dict, 'degree')\r\n",
        "  return degree_dict\r\n",
        "\r\n",
        "def plot_degree_dist(G):\r\n",
        "    degrees = [G.degree(n) for n in G.nodes()]\r\n",
        "    plt.hist(degrees)\r\n",
        "    plt.show()\r\n",
        "\r\n",
        "def degree_dist(G):\r\n",
        "  degree_sequence = sorted([d for n, d in G.degree()], reverse=True)\r\n",
        "  count = Counter(degree_sequence)\r\n",
        "  dict_count = dict(count)\r\n",
        "  k = []\r\n",
        "  Pk = []\r\n",
        "  PK = []\r\n",
        "  #den = G_bi.number_of_nodes()\r\n",
        "  den = G.number_of_nodes()\r\n",
        "  for key,value in dict_count.items():\r\n",
        "    if key != 0:\r\n",
        "      k.append(key)\r\n",
        "      Pk.append(count[key]/den)\r\n",
        "  arr_k = np.array(k)\r\n",
        "  arr_Pk = np.array(Pk)\r\n",
        "  plt.title('Log-Log PDF function')\r\n",
        "  plt.xlabel('k')\r\n",
        "  plt.ylabel('Pk')\r\n",
        "\r\n",
        "  plt.loglog(k,Pk, 'o')\r\n",
        "  m, c = np.polyfit(np.log(arr_k), np.log(arr_Pk), 1, w=np.sqrt(arr_Pk)) \r\n",
        "  Pk_fit = np.exp(m*np.log(arr_k) + c) \r\n",
        "  plt.loglog(arr_k, Pk_fit, '-')\r\n",
        "\r\n",
        "def degree_dist_CCDF(G):\r\n",
        "  degree_sequence = sorted([d for n, d in G.degree()], reverse=True)\r\n",
        "  count = Counter(degree_sequence)\r\n",
        "  dict_count = dict(count)\r\n",
        "  k = []\r\n",
        "  Pk = []\r\n",
        "  PK = []\r\n",
        "  den = G.number_of_nodes()\r\n",
        "  for key,value in dict_count.items():\r\n",
        "    if key != 0:\r\n",
        "      k.append(key)\r\n",
        "      Pk.append(count[key]/den)\r\n",
        "  PK = np.cumsum(Pk)\r\n",
        "  arr_k = np.array(k)\r\n",
        "  arr_Pk = np.array(Pk)\r\n",
        "  arr_PK = np.array(PK)\r\n",
        "  plt.title('Log-Log CCDF function')\r\n",
        "  plt.xlabel('k')\r\n",
        "  plt.ylabel('CCDF')\r\n",
        "\r\n",
        "  plt.loglog(k,PK, 'o')\r\n",
        "  m, c = np.polyfit(np.log(arr_k), np.log(arr_PK), 1, w=np.sqrt(arr_Pk)) \r\n",
        "  PK_fit = np.exp(m*np.log(arr_k) + c) \r\n",
        "  plt.loglog(arr_k, PK_fit, '-')"
      ],
      "execution_count": 105,
      "outputs": []
    },
    {
      "cell_type": "code",
      "metadata": {
        "id": "oBEOg7Rk_cmh"
      },
      "source": [
        "degree_dict = degree_found(Gproj)"
      ],
      "execution_count": 106,
      "outputs": []
    },
    {
      "cell_type": "code",
      "metadata": {
        "colab": {
          "base_uri": "https://localhost:8080/",
          "height": 265
        },
        "id": "uYQ7KojjgMZE",
        "outputId": "24dc836b-2939-4920-a579-3fd6c265da3f"
      },
      "source": [
        "plot_degree_dist(Gproj)"
      ],
      "execution_count": 107,
      "outputs": [
        {
          "output_type": "display_data",
          "data": {
            "image/png": "[encoded data removed]",
            "text/plain": [
              "<Figure size 432x288 with 1 Axes>"
            ]
          },
          "metadata": {
            "tags": [],
            "needs_background": "light"
          }
        }
      ]
    },
    {
      "cell_type": "code",
      "metadata": {
        "colab": {
          "base_uri": "https://localhost:8080/",
          "height": 299
        },
        "id": "TvCn0V2qQXsi",
        "outputId": "2fa01cd6-6e55-4d62-9c15-d0d4f49d3319"
      },
      "source": [
        "degree_dist(Gproj)"
      ],
      "execution_count": 108,
      "outputs": [
        {
          "output_type": "display_data",
          "data": {
            "image/png": "[encoded data removed]",
            "text/plain": [
              "<Figure size 432x288 with 1 Axes>"
            ]
          },
          "metadata": {
            "tags": [],
            "needs_background": "light"
          }
        }
      ]
    },
    {
      "cell_type": "code",
      "metadata": {
        "colab": {
          "base_uri": "https://localhost:8080/",
          "height": 299
        },
        "id": "LHA5h4g5_IWf",
        "outputId": "24ae5279-b1e8-4171-9dea-d8e2ecdf88b9"
      },
      "source": [
        "degree_dist_CCDF(Gproj)\r\n"
      ],
      "execution_count": 109,
      "outputs": [
        {
          "output_type": "display_data",
          "data": {
            "image/png": "[encoded data removed]",
            "text/plain": [
              "<Figure size 432x288 with 1 Axes>"
            ]
          },
          "metadata": {
            "tags": [],
            "needs_background": "light"
          }
        }
      ]
    },
    {
      "cell_type": "markdown",
      "metadata": {
        "id": "JfjhBFmRhZml"
      },
      "source": [
        "# cluster coefficient on both"
      ]
    },
    {
      "cell_type": "code",
      "metadata": {
        "id": "Ijtw5ESscPKq"
      },
      "source": [
        "def disconnected_check(G):\r\n",
        "  if not nx.is_connected(G):\r\n",
        "    big = max(nx.connected_components(G), key=len)\r\n",
        "    g = G.subgraph(big).copy() \r\n",
        "  return g\r\n",
        "\r\n",
        "def proj_net_coef(G):\r\n",
        "  degree_dict = degree_found(G)\r\n",
        "  nodes = list(degree_dict.keys())\r\n",
        "  degree_list = list(degree_dict.values())\r\n",
        "  degree_set = set()\r\n",
        "  for i in range(len(degree_list)):\r\n",
        "    degree_set.add(degree_list[i])\r\n",
        "  return degree_set,degree_dict\r\n",
        "\r\n",
        "def cluster_average(G,degree_set,degree_dict):\r\n",
        "  cluster_val = []\r\n",
        "  for degree in degree_set:\r\n",
        "    temp_node = [key for (key,value) in degree_dict.items() if value == degree] \r\n",
        "    temp = nx.average_clustering(G, nodes=temp_node)\r\n",
        "    cluster_val.append(temp)\r\n",
        "  return cluster_val\r\n",
        "\r\n",
        "def cluster_single(G):\r\n",
        "  cluster_val_single = []\r\n",
        "  for node in G.nodes():\r\n",
        "    temp = nx.clustering(G, nodes=node)\r\n",
        "    cluster_val_single.append(temp)\r\n",
        "  return cluster_val_single"
      ],
      "execution_count": 110,
      "outputs": []
    },
    {
      "cell_type": "code",
      "metadata": {
        "id": "LHd2RvhxPKV6"
      },
      "source": [
        "G_coeff = disconnected_check(Gproj)\r\n",
        "degree_set,degree_dict = proj_net_coef(G_coeff)\r\n",
        "cluster_val = cluster_average(G_coeff, degree_set,degree_dict)\r\n",
        "cluster_single_val = cluster_single(G_coeff)"
      ],
      "execution_count": 111,
      "outputs": []
    },
    {
      "cell_type": "code",
      "metadata": {
        "colab": {
          "base_uri": "https://localhost:8080/",
          "height": 316
        },
        "id": "Nwm-CkGuhTTn",
        "outputId": "b9aa5511-bada-476c-960a-b0812e479799"
      },
      "source": [
        "degree_list = list(degree_dict.values())\r\n",
        "degree_set_list = list(degree_set)\r\n",
        "plt.title('Clustering coefficient')\r\n",
        "plt.xlabel('k')\r\n",
        "plt.ylabel('<C>')\r\n",
        "plt.grid(True, which = 'both')\r\n",
        "plt.loglog(degree_list,cluster_single_val, 'o')\r\n",
        "plt.loglog(degree_set_list,cluster_val, 'o')"
      ],
      "execution_count": 112,
      "outputs": [
        {
          "output_type": "execute_result",
          "data": {
            "text/plain": [
              "[<matplotlib.lines.Line2D at 0x7f0d40311198>]"
            ]
          },
          "metadata": {
            "tags": []
          },
          "execution_count": 112
        },
        {
          "output_type": "display_data",
          "data": {
            "image/png": "[encoded data removed]",
            "text/plain": [
              "<Figure size 432x288 with 1 Axes>"
            ]
          },
          "metadata": {
            "tags": [],
            "needs_background": "light"
          }
        }
      ]
    },
    {
      "cell_type": "code",
      "metadata": {
        "colab": {
          "base_uri": "https://localhost:8080/"
        },
        "id": "ld-eLbUFhTXT",
        "outputId": "8fb78e7d-2fa8-477e-d674-9e1b301ef466"
      },
      "source": [
        "###################################???????????????\r\n",
        "\r\n",
        "avg_pr = nx.average_clustering(G_coeff)\r\n",
        "print('Average clustering coefficient: '+ str(avg_pr))\r\n",
        "\r\n",
        "natural_cut = 1*(pow(Gproj.number_of_nodes(),1/(alpha-1)))\r\n",
        "print('Natural cutoff: '+ str(natural_cut))"
      ],
      "execution_count": 113,
      "outputs": [
        {
          "output_type": "stream",
          "text": [
            "Average clustering coefficient: 0.3795622381920023\n",
            "Natural cutoff: 34.8287750405625\n"
          ],
          "name": "stdout"
        }
      ]
    },
    {
      "cell_type": "code",
      "metadata": {
        "id": "RKMxNp_PA4DP"
      },
      "source": [
        "def bipartite_cluster(G):\r\n",
        "  cluster_val_p1 = []\r\n",
        "  cluster_val_p2 = []\r\n",
        "\r\n",
        "  if nx.is_connected(G):\r\n",
        "    for node in G.nodes():\r\n",
        "      temp = nx.square_clustering(G, nodes=node)\r\n",
        "      if G.nodes[node]['type'] == 'hashtag':\r\n",
        "        cluster_val_p1.append(temp)\r\n",
        "      else:\r\n",
        "        cluster_val_p2.append(temp)\r\n",
        "  else:\r\n",
        "    big = max(nx.connected_components(G), key=len)\r\n",
        "    sub_comp = G.subgraph(big).copy() \r\n",
        "    for node in sub_comp.nodes():\r\n",
        "      temp = nx.square_clustering(sub_comp, nodes=node)\r\n",
        "      if sub_comp.nodes[node]['type'] == 'hashtag':\r\n",
        "        cluster_val_p1.append(temp)\r\n",
        "      else:\r\n",
        "        cluster_val_p2.append(temp)\r\n",
        "\r\n",
        "  return cluster_val_p1, cluster_val_p2\r\n",
        "    \r\n",
        "def multiple_dict(G):\r\n",
        "  if nx.is_connected(G):\r\n",
        "    degree_dict = degree_found(G)\r\n",
        "  else:\r\n",
        "    big = max(nx.connected_components(G), key=len)\r\n",
        "    sub_comp = G.subgraph(big).copy() \r\n",
        "    degree_dict = degree_found(sub_comp)\r\n",
        "\r\n",
        "  len_hash = 0\r\n",
        "  for node in G.nodes():\r\n",
        "    if G.nodes[node]['type'] == 'hashtag':\r\n",
        "      len_hash = len_hash+1\r\n",
        "\r\n",
        "  dict_v1 = {key:val for key, val in degree_dict.items() if key < len_hash}\r\n",
        "  degree_list_v1 = list(dict_v1.values())\r\n",
        "  dict_v2 = {key:val for key, val in degree_dict.items() if key >= len_hash}\r\n",
        "  degree_list_v2 = list(dict_v2.values())\r\n",
        "  return degree_list_v1,degree_list_v2\r\n",
        "  #return dict_v1,dict_v2"
      ],
      "execution_count": 114,
      "outputs": []
    },
    {
      "cell_type": "code",
      "metadata": {
        "id": "CFme_kMrN-7b"
      },
      "source": [
        "cluster_val_p1, cluster_val_p2 = bipartite_cluster(Gbiad)\r\n",
        "degree_list_v1,degree_list_v2 = multiple_dict(Gbiad)"
      ],
      "execution_count": 115,
      "outputs": []
    },
    {
      "cell_type": "code",
      "metadata": {
        "colab": {
          "base_uri": "https://localhost:8080/",
          "height": 316
        },
        "id": "T8OaNhHuPiHX",
        "outputId": "32fbe96f-d8eb-43fb-8712-dffa816ce02f"
      },
      "source": [
        "plt.title('Clustering coefficient for bipartite')\r\n",
        "plt.xlabel('k')\r\n",
        "plt.ylabel('<C>')\r\n",
        "#plt.grid(True, which = 'both')\r\n",
        "plt.loglog(degree_list_v1, cluster_val_p1, 'o')\r\n",
        "plt.loglog(degree_list_v2, cluster_val_p2, 'o')"
      ],
      "execution_count": 116,
      "outputs": [
        {
          "output_type": "execute_result",
          "data": {
            "text/plain": [
              "[<matplotlib.lines.Line2D at 0x7f0d40158208>]"
            ]
          },
          "metadata": {
            "tags": []
          },
          "execution_count": 116
        },
        {
          "output_type": "display_data",
          "data": {
            "image/png": "[encoded data removed]",
            "text/plain": [
              "<Figure size 432x288 with 1 Axes>"
            ]
          },
          "metadata": {
            "tags": [],
            "needs_background": "light"
          }
        }
      ]
    },
    {
      "cell_type": "markdown",
      "metadata": {
        "id": "U3sMfP36N4n1"
      },
      "source": [
        "# Assortativity only on projection"
      ]
    },
    {
      "cell_type": "code",
      "metadata": {
        "id": "swUC4OuQN43s"
      },
      "source": [
        "def assortativity(G):\r\n",
        "  \r\n",
        "  avg_neighbor = nx.average_neighbor_degree(G)   \r\n",
        "  avg_neighboor_k = nx.k_nearest_neighbors(G)\r\n",
        "\r\n",
        "  degree = [G.degree(n) for n in G.nodes()]\r\n",
        "  avg = list(avg_neighbor.values())\r\n",
        "\r\n",
        "  degree_k = list(avg_neighboor_k.keys())\r\n",
        "  avg_k = list(avg_neighboor_k.values())\r\n",
        "\r\n",
        "  plt.loglog(degree, avg,'o')\r\n",
        "  plt.loglog(degree_k, avg_k,'o')\r\n",
        "\r\n",
        "  degree_k = np.array(degree_k)\r\n",
        "  avg_k = np.array(avg_k)\r\n",
        "\r\n",
        "  '''a = np.log(degree_k)\r\n",
        "  b = np.log(avg_k)\r\n",
        "  a[np.isneginf(a)] = 0\r\n",
        "  b[np.isneginf(b)] = 0\r\n",
        "\r\n",
        "  m, c = np.polyfit(np.log(degree_k),np.log(avg_k), 1, w=np.sqrt(avg_k)) \r\n",
        "  avg_neigh_fit = np.exp(m*degree_k + c)\r\n",
        "  plt.loglog(degree_k, avg_neigh_fit, '-')'''\r\n",
        "\r\n",
        "  plt.xlabel(\"Degree\")\r\n",
        "  plt.ylabel(\"Average Neighbour Degree\")\r\n",
        "\r\n",
        "  plt.title('Degree Assortativity')\r\n",
        "  plt.show()\r\n",
        "  "
      ],
      "execution_count": 122,
      "outputs": []
    },
    {
      "cell_type": "code",
      "metadata": {
        "colab": {
          "base_uri": "https://localhost:8080/",
          "height": 299
        },
        "id": "8DBfQniqOBDG",
        "outputId": "72811b09-8d94-4f8c-a274-82c5d3396982"
      },
      "source": [
        "assortativity(Gproj)"
      ],
      "execution_count": 123,
      "outputs": [
        {
          "output_type": "display_data",
          "data": {
            "image/png": "[encoded data removed]",
            "text/plain": [
              "<Figure size 432x288 with 1 Axes>"
            ]
          },
          "metadata": {
            "tags": [],
            "needs_background": "light"
          }
        }
      ]
    },
    {
      "cell_type": "code",
      "metadata": {
        "colab": {
          "base_uri": "https://localhost:8080/"
        },
        "id": "Zo74Sgb-gwwk",
        "outputId": "0aef2c7a-c3de-4f30-a907-01a0bfc01a21"
      },
      "source": [
        "ass_deg = nx.degree_assortativity_coefficient(Gproj)\r\n",
        "print('Degree asortativity: '+ str(ass_deg))"
      ],
      "execution_count": 124,
      "outputs": [
        {
          "output_type": "stream",
          "text": [
            "Degree asortativity: -0.06997461301968143\n"
          ],
          "name": "stdout"
        }
      ]
    },
    {
      "cell_type": "code",
      "metadata": {
        "id": "YcT86pQFbp8e"
      },
      "source": [
        "def emo_assortativity(G):\r\n",
        "  if nx.is_connected(G):\r\n",
        "    g = G.copy()\r\n",
        "  else:\r\n",
        "    big = max(nx.connected_components(G), key=len)\r\n",
        "    g = G.subgraph(big).copy() \r\n",
        "\r\n",
        "  emo = []\r\n",
        "  for node in g.nodes():\r\n",
        "    value = g.nodes[node]['Emo_Neg']\r\n",
        "    value = round(value, 2)\r\n",
        "    emo.append(value)\r\n",
        "\r\n",
        "  avg_emo = [] \r\n",
        "  for node in g.nodes():\r\n",
        "    node_neighbor = g.neighbors(node)\r\n",
        "    sum = 0\r\n",
        "    count = 0\r\n",
        "    for i in node_neighbor:\r\n",
        "      sum = sum+g.nodes[i]['Emo_Neg']\r\n",
        "      count = count+1\r\n",
        "    avg_emo.append(sum/count)\r\n",
        "\r\n",
        "  emo_dict = dict(zip(emo,avg_emo))\r\n",
        "  emo_k = list(emo_dict.keys())\r\n",
        "  avg_emo_k = list(emo_dict.values())\r\n",
        "\r\n",
        "\r\n",
        "\r\n",
        "  plt.loglog(emo, avg_emo,'o')\r\n",
        "  plt.loglog(emo_k,avg_emo_k,'o')\r\n",
        "  emo_k = np.array(emo_k)\r\n",
        "  avg_emo_k = np.array(avg_emo_k)\r\n",
        "  '''a = np.log(emo_k)\r\n",
        "  b = np.log(avg_emo_k)\r\n",
        "  a[np.isneginf(a)] = 0\r\n",
        "  b[np.isneginf(b)] = 0\r\n",
        "  m, c = np.polyfit(a,b, 1, w=np.sqrt(avg_emo_k)) \r\n",
        "  avg_neigh_fit = np.exp(m*emo_k + c)\r\n",
        "  plt.loglog(emo_k, avg_neigh_fit, '-')'''\r\n",
        "  plt.xlabel(\"Emo\")\r\n",
        "  plt.ylabel(\"Average Neighbour Emo\")\r\n",
        "\r\n",
        "  plt.title('Emo Assortativity')\r\n",
        "  plt.show()\r\n",
        "\r\n"
      ],
      "execution_count": 131,
      "outputs": []
    },
    {
      "cell_type": "code",
      "metadata": {
        "colab": {
          "base_uri": "https://localhost:8080/",
          "height": 299
        },
        "id": "WkTj4Jg_cu_b",
        "outputId": "2fc50529-cf23-434c-9ac7-88dfd3393e58"
      },
      "source": [
        "emo_assortativity(Gproj)"
      ],
      "execution_count": 132,
      "outputs": [
        {
          "output_type": "display_data",
          "data": {
            "image/png": "[encoded data removed]",
            "text/plain": [
              "<Figure size 432x288 with 1 Axes>"
            ]
          },
          "metadata": {
            "tags": [],
            "needs_background": "light"
          }
        }
      ]
    },
    {
      "cell_type": "code",
      "metadata": {
        "colab": {
          "base_uri": "https://localhost:8080/"
        },
        "id": "D0PPXvkij-5H",
        "outputId": "8e18101f-ad11-4897-abd0-5a5e3a798693"
      },
      "source": [
        "ass_emo = nx.attribute_assortativity_coefficient(Gproj, 'Emo_Neg')\r\n",
        "print('Degree asortativity: '+ str(ass_emo))"
      ],
      "execution_count": 133,
      "outputs": [
        {
          "output_type": "stream",
          "text": [
            "Degree asortativity: 0.08929846365391227\n"
          ],
          "name": "stdout"
        }
      ]
    },
    {
      "cell_type": "markdown",
      "metadata": {
        "id": "v4DfT0P9o_ER"
      },
      "source": [
        "# robustness on both\r\n"
      ]
    },
    {
      "cell_type": "code",
      "metadata": {
        "id": "7Wk1jUinceru"
      },
      "source": [
        "def emo_dict(nodes):\r\n",
        "  label = nodes['Id'].values\r\n",
        "  label = label.tolist()\r\n",
        "  emo = nodes[\"Emo_Neg\"].to_numpy()\r\n",
        "  emo = emo.tolist()\r\n",
        "  emo_dictionary = dict(zip(label,emo))\r\n",
        "  return emo_dictionary\r\n",
        "\r\n",
        "\r\n",
        "def robustness(G, dict_characteristic, reverse = True):\r\n",
        "    g = G.copy()\r\n",
        "    \r\n",
        "    m = dict_characteristic\r\n",
        "    l = sorted(m.items(), key = operator.itemgetter(1), reverse = reverse)\r\n",
        "    \r\n",
        "    x = []\r\n",
        "    y = []\r\n",
        "    largest_component = max(nx.connected_components(g), key = len)\r\n",
        "    n = g.number_of_nodes()\r\n",
        "    x.append(0)\r\n",
        "    y.append(len(largest_component) * 1. / n)\r\n",
        "    \r\n",
        "    R = 0.0\r\n",
        "    \r\n",
        "    for i in range(1, n):#len(emo_dictionary)):\r\n",
        "      temp = l.pop(0)[0]\r\n",
        "      if temp in G:\r\n",
        "        g.remove_node(temp)\r\n",
        "        largest_component = max(nx.connected_components(g), key = len)\r\n",
        "        x.append(i * 1. / n)\r\n",
        "        #x.append(i)\r\n",
        "        R += len(largest_component) * 1. / n\r\n",
        "        y.append(len(largest_component) * 1. / n)\r\n",
        "     \r\n",
        "    return x, y, 0.5 - R / n\r\n",
        "\r\n",
        "def robustness_failure(G, dict_characteristic, reverse = True):\r\n",
        "  g = G.copy()\r\n",
        "\r\n",
        "  x = []\r\n",
        "  y = []\r\n",
        "  largest_component = max(nx.connected_components(g), key = len)\r\n",
        "  n = g.number_of_nodes()\r\n",
        "  x.append(0)\r\n",
        "  y.append(len(largest_component) * 1. / n)\r\n",
        "  m = dict_characteristic   \r\n",
        "  R = 0.0\r\n",
        "\r\n",
        "  for i in range(1, n):\r\n",
        "    keys =  list(m.keys())\r\n",
        "    random.shuffle(keys)\r\n",
        "    shuffled_m = dict()\r\n",
        "    for key in keys:\r\n",
        "      shuffled_m.update({key:m[key]})\r\n",
        "    m = shuffled_m\r\n",
        "\r\n",
        "    temp = list(m.keys())[0]\r\n",
        "    del m[temp]\r\n",
        "\r\n",
        "    if temp in g:\r\n",
        "      g.remove_node(temp)\r\n",
        "      largest_component = max(nx.connected_components(g), key = len)\r\n",
        "      x.append(i * 1. / n)  \r\n",
        "      R += len(largest_component) * 1. / n\r\n",
        "      y.append(len(largest_component) * 1. / n)\r\n",
        "  return x, y, 0.5 - R / n\r\n"
      ],
      "execution_count": 134,
      "outputs": []
    },
    {
      "cell_type": "code",
      "metadata": {
        "id": "W16iB8VpdVoZ"
      },
      "source": [
        "emo_dictionary_bi = emo_dict(nodesbiad)\r\n",
        "emo_dictionary_pr = emo_dict(nodesproj)"
      ],
      "execution_count": 135,
      "outputs": []
    },
    {
      "cell_type": "code",
      "metadata": {
        "colab": {
          "base_uri": "https://localhost:8080/"
        },
        "id": "l31s5w5G-B9T",
        "outputId": "412a2bf3-40e9-456b-d12a-edc3dc87d126"
      },
      "source": [
        "x_pr_emo, y_pr_emo, R_pr_emo = robustness(Gproj,emo_dictionary_pr)\r\n",
        "x_fail_pr_emo, y_fail_pr_emo, R_fail_pr_emo = robustness_failure(Gproj,emo_dictionary_pr)\r\n",
        "\r\n",
        "print('Attack robustness: ' +str(R_pr_emo))\r\n",
        "print('Failure robustness: ' +str(R_fail_pr_emo))"
      ],
      "execution_count": 136,
      "outputs": [
        {
          "output_type": "stream",
          "text": [
            "Attack robustness: 0.29683593749999954\n",
            "Failure robustness: 0.14710937499999976\n"
          ],
          "name": "stdout"
        }
      ]
    },
    {
      "cell_type": "code",
      "metadata": {
        "colab": {
          "base_uri": "https://localhost:8080/",
          "height": 312
        },
        "id": "wduKsWYY-CBF",
        "outputId": "6198b3e6-ecc9-4a98-c20b-f6f4f7ea0a71"
      },
      "source": [
        "plt.title('Robustness on emo_neg on projection')\r\n",
        "plt.xlabel('Percentage of node removed')\r\n",
        "plt.ylabel('Percentage of node remained')\r\n",
        "plt.plot(x_pr_emo,y_pr_emo)\r\n",
        "plt.plot(x_fail_pr_emo,y_fail_pr_emo)"
      ],
      "execution_count": 137,
      "outputs": [
        {
          "output_type": "execute_result",
          "data": {
            "text/plain": [
              "[<matplotlib.lines.Line2D at 0x7f0d4171f128>]"
            ]
          },
          "metadata": {
            "tags": []
          },
          "execution_count": 137
        },
        {
          "output_type": "display_data",
          "data": {
            "image/png": "[encoded data removed]",
            "text/plain": [
              "<Figure size 432x288 with 1 Axes>"
            ]
          },
          "metadata": {
            "tags": [],
            "needs_background": "light"
          }
        }
      ]
    },
    {
      "cell_type": "code",
      "metadata": {
        "id": "VSdOth0vwnKR"
      },
      "source": [
        "####????\r\n",
        "def average_1_2_emo(G):\r\n",
        "  k = 0\r\n",
        "  k_2 = 0\r\n",
        "  for i in range(len(G.nodes())):\r\n",
        "    k = k+G.nodes[i]['Emo_Neg']\r\n",
        "    k_2 = k_2 + G.nodes[i]['Emo_Neg']*G.nodes[i]['Emo_Neg']\r\n",
        "  k = k/len(G.nodes())\r\n",
        "  k_2 = k_2/len(G.nodes())\r\n",
        "\r\n",
        "  return k,k_2"
      ],
      "execution_count": 138,
      "outputs": []
    },
    {
      "cell_type": "code",
      "metadata": {
        "colab": {
          "base_uri": "https://localhost:8080/"
        },
        "id": "rFABpWnIw2y0",
        "outputId": "71143786-edb3-481a-e2ae-6e81bafeec6d"
      },
      "source": [
        "emo1, emo2 = average_1_2_emo(Gproj)\r\n",
        "f_c_emo = 1-1/((emo2/emo1)-1)\r\n",
        "print('Breaking point fc: '+str(f_c_emo))"
      ],
      "execution_count": 139,
      "outputs": [
        {
          "output_type": "stream",
          "text": [
            "Breaking point fc: 2.428889909924263\n"
          ],
          "name": "stdout"
        }
      ]
    },
    {
      "cell_type": "code",
      "metadata": {
        "colab": {
          "base_uri": "https://localhost:8080/"
        },
        "id": "_zXO5ivl-CKz",
        "outputId": "e2468e9f-a643-4938-db99-5782d9853ce4"
      },
      "source": [
        "degree_dict_pr = degree_found(Gproj)\r\n",
        "x_pr_deg, y_pr_deg, R_pr_deg = robustness(Gproj,degree_dict_pr)\r\n",
        "x_fail_pr_deg, y_fail_pr_deg, R_fail_pr_deg = robustness_failure(Gproj,degree_dict_pr)\r\n",
        "\r\n",
        "print('Attack robustness: ' +str(R_pr_deg))\r\n",
        "print('Failure robustness: ' +str(R_fail_pr_deg))"
      ],
      "execution_count": 140,
      "outputs": [
        {
          "output_type": "stream",
          "text": [
            "Attack robustness: 0.3896484374999998\n",
            "Failure robustness: 0.1679296874999996\n"
          ],
          "name": "stdout"
        }
      ]
    },
    {
      "cell_type": "code",
      "metadata": {
        "colab": {
          "base_uri": "https://localhost:8080/",
          "height": 312
        },
        "id": "OeHHHwFjvoZv",
        "outputId": "b6556b28-2b03-45cb-b89d-7cd401639fd6"
      },
      "source": [
        "plt.title('Robustness on degree on projection')\r\n",
        "plt.xlabel('Percentage of node removed')\r\n",
        "plt.ylabel('Percentage of node remained')\r\n",
        "plt.plot(x_pr_deg, y_pr_deg)\r\n",
        "plt.plot(x_fail_pr_deg, y_fail_pr_deg)"
      ],
      "execution_count": 141,
      "outputs": [
        {
          "output_type": "execute_result",
          "data": {
            "text/plain": [
              "[<matplotlib.lines.Line2D at 0x7f0d4185d668>]"
            ]
          },
          "metadata": {
            "tags": []
          },
          "execution_count": 141
        },
        {
          "output_type": "display_data",
          "data": {
            "image/png": "[encoded data removed]",
            "text/plain": [
              "<Figure size 432x288 with 1 Axes>"
            ]
          },
          "metadata": {
            "tags": [],
            "needs_background": "light"
          }
        }
      ]
    },
    {
      "cell_type": "code",
      "metadata": {
        "colab": {
          "base_uri": "https://localhost:8080/"
        },
        "id": "2ixNU4ruSIHN",
        "outputId": "00c67a17-112c-4df2-8b12-08ac88ec7120"
      },
      "source": [
        "x_bi_emo, y_bi_emo, R_bi_emo = robustness(Gbiad,emo_dictionary_bi)\r\n",
        "x_fail_bi_emo, y_fail_bi_emo, R_fail_bi_emo = robustness_failure(Gbiad,emo_dictionary_bi)\r\n",
        "\r\n",
        "print('Attack robustness: ' +str(R_bi_emo))\r\n",
        "print('Failure robustness: ' +str(R_fail_bi_emo))"
      ],
      "execution_count": 142,
      "outputs": [
        {
          "output_type": "stream",
          "text": [
            "Attack robustness: 0.3558375250471152\n",
            "Failure robustness: 0.21548886005254803\n"
          ],
          "name": "stdout"
        }
      ]
    },
    {
      "cell_type": "code",
      "metadata": {
        "colab": {
          "base_uri": "https://localhost:8080/",
          "height": 312
        },
        "id": "5t1-bRPiSwnj",
        "outputId": "25f38d76-3334-42cf-90e7-43ea9083ab3a"
      },
      "source": [
        "plt.title('Robustness on emo_neg on bipartite')\r\n",
        "plt.xlabel('Percentage of node removed')\r\n",
        "plt.ylabel('Percentage of node remained')\r\n",
        "plt.plot(x_bi_emo, y_bi_emo)\r\n",
        "plt.plot(x_fail_bi_emo, y_fail_bi_emo)"
      ],
      "execution_count": 143,
      "outputs": [
        {
          "output_type": "execute_result",
          "data": {
            "text/plain": [
              "[<matplotlib.lines.Line2D at 0x7f0d41602a20>]"
            ]
          },
          "metadata": {
            "tags": []
          },
          "execution_count": 143
        },
        {
          "output_type": "display_data",
          "data": {
            "image/png": "[encoded data removed]",
            "text/plain": [
              "<Figure size 432x288 with 1 Axes>"
            ]
          },
          "metadata": {
            "tags": [],
            "needs_background": "light"
          }
        }
      ]
    },
    {
      "cell_type": "code",
      "metadata": {
        "colab": {
          "base_uri": "https://localhost:8080/"
        },
        "id": "G3vgq1k1eJp1",
        "outputId": "c3239fcc-31a4-4950-e6ce-9a17ad024e10"
      },
      "source": [
        "degree_dict_bi = degree_found(Gbiad)\r\n",
        "x_bi_deg, y_bi_deg, R_bi_deg = robustness(Gbiad,degree_dict_bi)\r\n",
        "x_fail_bi_deg, y_fail_bi_deg, R_fail_bi_deg = robustness_failure(Gbiad,degree_dict_bi)\r\n",
        "\r\n",
        "print('Attack robustness: ' +str(R_bi_deg))\r\n",
        "print('Failure robustness: ' +str(R_fail_bi_deg))"
      ],
      "execution_count": 144,
      "outputs": [
        {
          "output_type": "stream",
          "text": [
            "Attack robustness: 0.4790807881186115\n",
            "Failure robustness: 0.22078027777650877\n"
          ],
          "name": "stdout"
        }
      ]
    },
    {
      "cell_type": "code",
      "metadata": {
        "colab": {
          "base_uri": "https://localhost:8080/",
          "height": 312
        },
        "id": "jeNY-hoReedF",
        "outputId": "f111735a-040b-4847-d45f-ed3e7305ab32"
      },
      "source": [
        "plt.title('Robustness on degree on bipartite')\r\n",
        "plt.xlabel('Percentage of node removed')\r\n",
        "plt.ylabel('Percentage of node remained')\r\n",
        "plt.plot(x_bi_deg, y_bi_deg)\r\n",
        "plt.plot(x_fail_bi_deg, y_fail_bi_deg)"
      ],
      "execution_count": 145,
      "outputs": [
        {
          "output_type": "execute_result",
          "data": {
            "text/plain": [
              "[<matplotlib.lines.Line2D at 0x7f0d41c78f60>]"
            ]
          },
          "metadata": {
            "tags": []
          },
          "execution_count": 145
        },
        {
          "output_type": "display_data",
          "data": {
            "image/png": "[encoded data removed]",
            "text/plain": [
              "<Figure size 432x288 with 1 Axes>"
            ]
          },
          "metadata": {
            "tags": [],
            "needs_background": "light"
          }
        }
      ]
    },
    {
      "cell_type": "code",
      "metadata": {
        "colab": {
          "base_uri": "https://localhost:8080/"
        },
        "id": "kAl4fo4Hr3d9",
        "outputId": "630a7d19-52a9-4c73-b040-171a0bd3a534"
      },
      "source": [
        "f_c_deg = 1-1/((k2/k)-1)\r\n",
        "print('Breaking point fc: '+str(f_c_deg))"
      ],
      "execution_count": 146,
      "outputs": [
        {
          "output_type": "stream",
          "text": [
            "Breaking point fc: 0.8981612446958982\n"
          ],
          "name": "stdout"
        }
      ]
    },
    {
      "cell_type": "markdown",
      "metadata": {
        "id": "iiaJJInF-_Ti"
      },
      "source": [
        "# page rank only on projection"
      ]
    },
    {
      "cell_type": "code",
      "metadata": {
        "id": "E_dScR3lpi-C"
      },
      "source": [
        "def page_hist(G):\r\n",
        "  if nx.is_connected(G):\r\n",
        "    pagerank = nx.pagerank(G)\r\n",
        "    hits = nx.hits(G, max_iter = 300)\r\n",
        "  else:\r\n",
        "    big = max(nx.connected_components(G), key=len)\r\n",
        "    sub_comp = G.subgraph(big).copy() \r\n",
        "    pagerank = nx.pagerank(sub_comp)\r\n",
        "    hits = nx.hits(sub_comp, max_iter = 300)\r\n",
        "\r\n",
        "  value_pagerank = list(pagerank.values())\r\n",
        "  autority = hits[1]\r\n",
        "  value_autority = list(autority.values())\r\n",
        "\r\n",
        "  neg_pagerank = []\r\n",
        "  for i in range(len(value_pagerank)):\r\n",
        "    neg_pagerank.append(-1*value_pagerank[i])\r\n",
        "\r\n",
        "  return value_pagerank, neg_pagerank, value_autority\r\n",
        "\r\n",
        "def top_pagerank(G,num):\r\n",
        "  if nx.is_connected(G):\r\n",
        "    pagerank = nx.pagerank(G)\r\n",
        "  else:\r\n",
        "    big = max(nx.connected_components(G), key=len)\r\n",
        "    sub_comp = G.subgraph(big).copy() \r\n",
        "    pagerank = nx.pagerank(sub_comp)\r\n",
        "\r\n",
        "  sorted_pagerank = sorted(pagerank.items(), key=itemgetter(1), reverse=True)\r\n",
        "  top_pagerank = sorted_pagerank[:num]\r\n",
        "  return top_pagerank\r\n"
      ],
      "execution_count": 147,
      "outputs": []
    },
    {
      "cell_type": "code",
      "metadata": {
        "id": "xHpbGIanqV2I"
      },
      "source": [
        "pagerank, neg_pagerank, hits = page_hist(Gproj)"
      ],
      "execution_count": 148,
      "outputs": []
    },
    {
      "cell_type": "code",
      "metadata": {
        "colab": {
          "base_uri": "https://localhost:8080/",
          "height": 298
        },
        "id": "IP_ji-ZijzOU",
        "outputId": "dfea0e6e-7cf0-4c05-abd5-4145130137c0"
      },
      "source": [
        "plt.title('Pagerank vs hits')\r\n",
        "plt.grid(True)\r\n",
        "plt.plot(hits)\r\n",
        "plt.plot(neg_pagerank)"
      ],
      "execution_count": 149,
      "outputs": [
        {
          "output_type": "execute_result",
          "data": {
            "text/plain": [
              "[<matplotlib.lines.Line2D at 0x7f0d41bbc358>]"
            ]
          },
          "metadata": {
            "tags": []
          },
          "execution_count": 149
        },
        {
          "output_type": "display_data",
          "data": {
            "image/png": "[encoded data removed]",
            "text/plain": [
              "<Figure size 432x288 with 1 Axes>"
            ]
          },
          "metadata": {
            "tags": [],
            "needs_background": "light"
          }
        }
      ]
    },
    {
      "cell_type": "code",
      "metadata": {
        "id": "uYR221yb9ftg",
        "colab": {
          "base_uri": "https://localhost:8080/",
          "height": 312
        },
        "outputId": "9c10a741-6106-4568-8242-1728c472b6e9"
      },
      "source": [
        "plt.title('Pagerank vs hits coefficient')\r\n",
        "plt.grid(True)\r\n",
        "plt.xlabel('Pagerank score')\r\n",
        "plt.ylabel('Hits score')\r\n",
        "plt.plot(pagerank,hits, 'x')"
      ],
      "execution_count": 150,
      "outputs": [
        {
          "output_type": "execute_result",
          "data": {
            "text/plain": [
              "[<matplotlib.lines.Line2D at 0x7f0d41fe0f28>]"
            ]
          },
          "metadata": {
            "tags": []
          },
          "execution_count": 150
        },
        {
          "output_type": "display_data",
          "data": {
            "image/png": "[encoded data removed]",
            "text/plain": [
              "<Figure size 432x288 with 1 Axes>"
            ]
          },
          "metadata": {
            "tags": [],
            "needs_background": "light"
          }
        }
      ]
    },
    {
      "cell_type": "code",
      "metadata": {
        "id": "Q_ncdmZS9fxP"
      },
      "source": [
        "'''page_r = nx.pagerank(Gproj)\r\n",
        "sorted_page = sorted(page_r.items(), key=itemgetter(1), reverse=True)\r\n",
        "top_page_score = sorted_page[:20]'''"
      ],
      "execution_count": 158,
      "outputs": []
    },
    {
      "cell_type": "markdown",
      "metadata": {
        "id": "PuEu_zNN22Bz"
      },
      "source": [
        "# Community on projection"
      ]
    },
    {
      "cell_type": "code",
      "metadata": {
        "id": "Pla8aVoOzF7q"
      },
      "source": [
        "def louv_mod(G,resolution):\r\n",
        "  if nx.is_connected(G):\r\n",
        "    modularity_dict = community_louvain.best_partition(G,resolution=2.0)\r\n",
        "    mod = community_louvain.modularity(modularity_dict,G)\r\n",
        "  else:\r\n",
        "    big = max(nx.connected_components(G), key=len)\r\n",
        "    g = G.subgraph(big).copy() \r\n",
        "    modularity_dict = community_louvain.best_partition(g,resolution=2.0)\r\n",
        "    mod = community_louvain.modularity(modularity_dict,g)\r\n",
        "  \r\n",
        "  return modularity_dict, mod"
      ],
      "execution_count": 161,
      "outputs": []
    },
    {
      "cell_type": "code",
      "metadata": {
        "id": "hHF12HgUkMIi"
      },
      "source": [
        "res = 2\r\n",
        "mod_dict, mod_val = louv_mod(Gproj,res)"
      ],
      "execution_count": 162,
      "outputs": []
    },
    {
      "cell_type": "code",
      "metadata": {
        "colab": {
          "base_uri": "https://localhost:8080/"
        },
        "id": "f_ucWW7sztJB",
        "outputId": "bace2aeb-7d89-46d3-f636-8570eb7619cb"
      },
      "source": [
        "nx.set_node_attributes(Gproj, mod_dict, 'modularity')\r\n",
        "print('Modularity value: '+str(mod_val))"
      ],
      "execution_count": 163,
      "outputs": [
        {
          "output_type": "stream",
          "text": [
            "Modularity value: 0.554852558111465\n"
          ],
          "name": "stdout"
        }
      ]
    }
  ]
}